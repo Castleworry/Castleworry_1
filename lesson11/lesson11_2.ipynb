{
 "cells": [
  {
   "cell_type": "code",
   "execution_count": 3,
   "id": "4b592973",
   "metadata": {},
   "outputs": [
    {
     "name": "stdout",
     "output_type": "stream",
     "text": [
      "<class 'list'>\n"
     ]
    }
   ],
   "source": [
    "fruits:list = [\"apple\", \"banana\", \"cherry\"]\n",
    "print(type(fruits))"
   ]
  },
  {
   "cell_type": "code",
   "execution_count": 2,
   "id": "8005d089",
   "metadata": {},
   "outputs": [],
   "source": [
    "#定義class\n",
    "class Person():\n",
    "    pass"
   ]
  },
  {
   "cell_type": "code",
   "execution_count": 4,
   "id": "ebd664fc",
   "metadata": {},
   "outputs": [
    {
     "name": "stdout",
     "output_type": "stream",
     "text": [
      "<class '__main__.Person'>\n",
      "<class '__main__.Person'>\n"
     ]
    }
   ],
   "source": [
    "#使用預設的初始化建立Person的實體\n",
    "p1 = Person()\n",
    "print(type(p1))\n",
    "\n",
    "p2 = Person()\n",
    "print(type(p2))\n"
   ]
  },
  {
   "cell_type": "code",
   "execution_count": null,
   "id": "8c48e321",
   "metadata": {},
   "outputs": [],
   "source": [
    "#python是動態型別，可以動態產生attribute\n",
    "p1.name = \"robert\"\n",
    "print(p1.name)\n",
    "\n",
    "print(p2.name)  # 這會報錯，因為p2沒有name屬性"
   ]
  },
  {
   "cell_type": "code",
   "execution_count": null,
   "id": "11237e2d",
   "metadata": {},
   "outputs": [],
   "source": [
    "#定義class\n",
    "#自訂__init__(self)\n",
    "#只有自訂init，才可以自訂attribute\n",
    "class Person():\n",
    "    def __init__(self,name: str):#自訂init\n",
    "        self.name = name #建立一個attribute，#在class裡面，要建立attribute，一定要有self"
   ]
  },
  {
   "cell_type": "code",
   "execution_count": 11,
   "id": "17a08d6d",
   "metadata": {},
   "outputs": [
    {
     "ename": "TypeError",
     "evalue": "Person() takes no arguments",
     "output_type": "error",
     "traceback": [
      "\u001b[31m---------------------------------------------------------------------------\u001b[39m",
      "\u001b[31mTypeError\u001b[39m                                 Traceback (most recent call last)",
      "\u001b[36mCell\u001b[39m\u001b[36m \u001b[39m\u001b[32mIn[11]\u001b[39m\u001b[32m, line 1\u001b[39m\n\u001b[32m----> \u001b[39m\u001b[32m1\u001b[39m p1 = \u001b[43mPerson\u001b[49m\u001b[43m(\u001b[49m\u001b[33;43m\"\u001b[39;49m\u001b[33;43mrobert\u001b[39;49m\u001b[33;43m\"\u001b[39;49m\u001b[43m)\u001b[49m\n\u001b[32m      3\u001b[39m \u001b[38;5;28mprint\u001b[39m(p1.name) \u001b[38;5;66;03m#在class外面，要改變或取出attribute，必須要有實體名稱\u001b[39;00m\n\u001b[32m      5\u001b[39m p2 = Person(\u001b[33m\"\u001b[39m\u001b[33malice\u001b[39m\u001b[33m\"\u001b[39m)\n",
      "\u001b[31mTypeError\u001b[39m: Person() takes no arguments"
     ]
    }
   ],
   "source": [
    "p1 = Person(\"robert\")\n",
    "\n",
    "print(p1.name) #在class外面，要改變或取出attribute，必須要有實體名稱\n",
    "\n",
    "p2 = Person(\"alice\")\n",
    "print(p2.name)"
   ]
  },
  {
   "cell_type": "code",
   "execution_count": 23,
   "id": "956ad438",
   "metadata": {},
   "outputs": [],
   "source": [
    "#定義class\n",
    "class Person():\n",
    "    count = 0\n",
    "    #class method\n",
    "    @classmethod\n",
    "    def commercial(cls):\n",
    "        cls.count += 1\n",
    "        return cls.count\n",
    "    \n",
    "@staticmethod\n",
    "def say_hello():\n",
    "    print(\"Hello, world!\")"
   ]
  },
  {
   "cell_type": "code",
   "execution_count": 22,
   "id": "e94995e1",
   "metadata": {},
   "outputs": [
    {
     "data": {
      "text/plain": [
       "20"
      ]
     },
     "execution_count": 22,
     "metadata": {},
     "output_type": "execute_result"
    }
   ],
   "source": [
    "Person.count\n",
    "Person.commercial()  # 呼叫class method\n",
    "Person.count\n",
    "Person.commercial()  # 再次呼叫class method\n",
    "Person.count  # count值已經增加"
   ]
  },
  {
   "cell_type": "code",
   "execution_count": 24,
   "id": "a1fc3fab",
   "metadata": {},
   "outputs": [
    {
     "ename": "AttributeError",
     "evalue": "type object 'Person' has no attribute 'say_hello'",
     "output_type": "error",
     "traceback": [
      "\u001b[31m---------------------------------------------------------------------------\u001b[39m",
      "\u001b[31mAttributeError\u001b[39m                            Traceback (most recent call last)",
      "\u001b[36mCell\u001b[39m\u001b[36m \u001b[39m\u001b[32mIn[24]\u001b[39m\u001b[32m, line 1\u001b[39m\n\u001b[32m----> \u001b[39m\u001b[32m1\u001b[39m \u001b[43mPerson\u001b[49m\u001b[43m.\u001b[49m\u001b[43msay_hello\u001b[49m()  \u001b[38;5;66;03m# 呼叫靜態方法\u001b[39;00m\n",
      "\u001b[31mAttributeError\u001b[39m: type object 'Person' has no attribute 'say_hello'"
     ]
    }
   ],
   "source": [
    "Person.say_hello()  # 呼叫靜態方法"
   ]
  }
 ],
 "metadata": {
  "kernelspec": {
   "display_name": "base",
   "language": "python",
   "name": "python3"
  },
  "language_info": {
   "codemirror_mode": {
    "name": "ipython",
    "version": 3
   },
   "file_extension": ".py",
   "mimetype": "text/x-python",
   "name": "python",
   "nbconvert_exporter": "python",
   "pygments_lexer": "ipython3",
   "version": "3.13.2"
  }
 },
 "nbformat": 4,
 "nbformat_minor": 5
}
